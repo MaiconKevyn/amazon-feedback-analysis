{
 "cells": [
  {
   "cell_type": "markdown",
   "metadata": {},
   "source": [
    "# Imports"
   ]
  },
  {
   "cell_type": "code",
   "execution_count": 50,
   "metadata": {},
   "outputs": [],
   "source": [
    "import pandas as pd\n",
    "import matplotlib.pyplot as plt\n",
    "import re\n",
    "from dotenv import load_dotenv\n",
    "from openai import OpenAI\n",
    "import os\n",
    "from tqdm.notebook import tqdm\n",
    "import numpy as np\n",
    "from plotly.subplots import make_subplots\n",
    "import plotly.graph_objects as go\n",
    "from transformers import pipeline"
   ]
  },
  {
   "cell_type": "markdown",
   "metadata": {},
   "source": [
    "# Data"
   ]
  },
  {
   "cell_type": "code",
   "execution_count": 34,
   "metadata": {},
   "outputs": [
    {
     "data": {
      "text/plain": [
       "(4915, 12)"
      ]
     },
     "execution_count": 34,
     "metadata": {},
     "output_type": "execute_result"
    }
   ],
   "source": [
    "df = pd.read_csv(\"amazon_reviews.csv\")\n",
    "df.shape"
   ]
  },
  {
   "cell_type": "code",
   "execution_count": 35,
   "metadata": {},
   "outputs": [
    {
     "data": {
      "text/html": [
       "<div>\n",
       "<style scoped>\n",
       "    .dataframe tbody tr th:only-of-type {\n",
       "        vertical-align: middle;\n",
       "    }\n",
       "\n",
       "    .dataframe tbody tr th {\n",
       "        vertical-align: top;\n",
       "    }\n",
       "\n",
       "    .dataframe thead th {\n",
       "        text-align: right;\n",
       "    }\n",
       "</style>\n",
       "<table border=\"1\" class=\"dataframe\">\n",
       "  <thead>\n",
       "    <tr style=\"text-align: right;\">\n",
       "      <th></th>\n",
       "      <th>Unnamed: 0</th>\n",
       "      <th>reviewerName</th>\n",
       "      <th>overall</th>\n",
       "      <th>reviewText</th>\n",
       "      <th>reviewTime</th>\n",
       "      <th>day_diff</th>\n",
       "      <th>helpful_yes</th>\n",
       "      <th>helpful_no</th>\n",
       "      <th>total_vote</th>\n",
       "      <th>score_pos_neg_diff</th>\n",
       "      <th>score_average_rating</th>\n",
       "      <th>wilson_lower_bound</th>\n",
       "    </tr>\n",
       "  </thead>\n",
       "  <tbody>\n",
       "    <tr>\n",
       "      <th>0</th>\n",
       "      <td>0</td>\n",
       "      <td>NaN</td>\n",
       "      <td>4.0</td>\n",
       "      <td>No issues.</td>\n",
       "      <td>2014-07-23</td>\n",
       "      <td>138</td>\n",
       "      <td>0</td>\n",
       "      <td>0</td>\n",
       "      <td>0</td>\n",
       "      <td>0</td>\n",
       "      <td>0.0</td>\n",
       "      <td>0.0</td>\n",
       "    </tr>\n",
       "    <tr>\n",
       "      <th>1</th>\n",
       "      <td>1</td>\n",
       "      <td>0mie</td>\n",
       "      <td>5.0</td>\n",
       "      <td>Purchased this for my device, it worked as adv...</td>\n",
       "      <td>2013-10-25</td>\n",
       "      <td>409</td>\n",
       "      <td>0</td>\n",
       "      <td>0</td>\n",
       "      <td>0</td>\n",
       "      <td>0</td>\n",
       "      <td>0.0</td>\n",
       "      <td>0.0</td>\n",
       "    </tr>\n",
       "    <tr>\n",
       "      <th>2</th>\n",
       "      <td>2</td>\n",
       "      <td>1K3</td>\n",
       "      <td>4.0</td>\n",
       "      <td>it works as expected. I should have sprung for...</td>\n",
       "      <td>2012-12-23</td>\n",
       "      <td>715</td>\n",
       "      <td>0</td>\n",
       "      <td>0</td>\n",
       "      <td>0</td>\n",
       "      <td>0</td>\n",
       "      <td>0.0</td>\n",
       "      <td>0.0</td>\n",
       "    </tr>\n",
       "    <tr>\n",
       "      <th>3</th>\n",
       "      <td>3</td>\n",
       "      <td>1m2</td>\n",
       "      <td>5.0</td>\n",
       "      <td>This think has worked out great.Had a diff. br...</td>\n",
       "      <td>2013-11-21</td>\n",
       "      <td>382</td>\n",
       "      <td>0</td>\n",
       "      <td>0</td>\n",
       "      <td>0</td>\n",
       "      <td>0</td>\n",
       "      <td>0.0</td>\n",
       "      <td>0.0</td>\n",
       "    </tr>\n",
       "    <tr>\n",
       "      <th>4</th>\n",
       "      <td>4</td>\n",
       "      <td>2&amp;amp;1/2Men</td>\n",
       "      <td>5.0</td>\n",
       "      <td>Bought it with Retail Packaging, arrived legit...</td>\n",
       "      <td>2013-07-13</td>\n",
       "      <td>513</td>\n",
       "      <td>0</td>\n",
       "      <td>0</td>\n",
       "      <td>0</td>\n",
       "      <td>0</td>\n",
       "      <td>0.0</td>\n",
       "      <td>0.0</td>\n",
       "    </tr>\n",
       "  </tbody>\n",
       "</table>\n",
       "</div>"
      ],
      "text/plain": [
       "   Unnamed: 0  reviewerName  overall  \\\n",
       "0           0           NaN      4.0   \n",
       "1           1          0mie      5.0   \n",
       "2           2           1K3      4.0   \n",
       "3           3           1m2      5.0   \n",
       "4           4  2&amp;1/2Men      5.0   \n",
       "\n",
       "                                          reviewText  reviewTime  day_diff  \\\n",
       "0                                         No issues.  2014-07-23       138   \n",
       "1  Purchased this for my device, it worked as adv...  2013-10-25       409   \n",
       "2  it works as expected. I should have sprung for...  2012-12-23       715   \n",
       "3  This think has worked out great.Had a diff. br...  2013-11-21       382   \n",
       "4  Bought it with Retail Packaging, arrived legit...  2013-07-13       513   \n",
       "\n",
       "   helpful_yes  helpful_no  total_vote  score_pos_neg_diff  \\\n",
       "0            0           0           0                   0   \n",
       "1            0           0           0                   0   \n",
       "2            0           0           0                   0   \n",
       "3            0           0           0                   0   \n",
       "4            0           0           0                   0   \n",
       "\n",
       "   score_average_rating  wilson_lower_bound  \n",
       "0                   0.0                 0.0  \n",
       "1                   0.0                 0.0  \n",
       "2                   0.0                 0.0  \n",
       "3                   0.0                 0.0  \n",
       "4                   0.0                 0.0  "
      ]
     },
     "execution_count": 35,
     "metadata": {},
     "output_type": "execute_result"
    }
   ],
   "source": [
    "df.head()"
   ]
  },
  {
   "cell_type": "markdown",
   "metadata": {},
   "source": [
    "# Preprocess"
   ]
  },
  {
   "cell_type": "code",
   "execution_count": 38,
   "metadata": {},
   "outputs": [],
   "source": [
    "def preprocess(text):\n",
    "    \"\"\"\n",
    "    Preprocesses the given text by removing duplicate symbols and extra whitespaces.\n",
    "    \n",
    "    Args:\n",
    "        text (str): The input text to be preprocessed.\n",
    "    \n",
    "    Returns:\n",
    "        str: The preprocessed text.\n",
    "    \"\"\"\n",
    "    # Remove duplicate symbols.\n",
    "    text = re.sub(r'([^\\w\\s])\\1+', r'\\1', text)\n",
    "    \n",
    "    # Remove extra whitespaces.\n",
    "    text = re.sub(r'\\s+', ' ', text).strip()\n",
    "    \n",
    "    # Check if the string length is 1, if so, return an empty string.\n",
    "    if len(text) == 1:\n",
    "        return \"\"\n",
    "    return text"
   ]
  },
  {
   "cell_type": "markdown",
   "metadata": {},
   "source": [
    "We need to ensure that the `reviewText` column does not contain any null values, as we are only interested in text data in string format."
   ]
  },
  {
   "cell_type": "code",
   "execution_count": 39,
   "metadata": {},
   "outputs": [
    {
     "name": "stdout",
     "output_type": "stream",
     "text": [
      "Attention: There are 1 null values in the column 'reviewText'.\n"
     ]
    }
   ],
   "source": [
    "if df['reviewText'].isnull().any():\n",
    "    print(f\"Attention: There are {df['reviewText'].isnull().sum()} null values in the column '{'reviewText'}'.\")\n",
    "else:\n",
    "    print(\"No null values found.\")"
   ]
  },
  {
   "cell_type": "code",
   "execution_count": 40,
   "metadata": {},
   "outputs": [
    {
     "data": {
      "text/plain": [
       "(4914, 12)"
      ]
     },
     "execution_count": 40,
     "metadata": {},
     "output_type": "execute_result"
    }
   ],
   "source": [
    "df.dropna(subset=['reviewText'], inplace=True)\n",
    "df.shape"
   ]
  },
  {
   "cell_type": "code",
   "execution_count": 43,
   "metadata": {},
   "outputs": [
    {
     "name": "stdout",
     "output_type": "stream",
     "text": [
      "All values in the column are strings.\n"
     ]
    }
   ],
   "source": [
    "non_string_values = df[~df['reviewText'].apply(lambda x: isinstance(x, str))]\n",
    "\n",
    "if not non_string_values.empty:\n",
    "    print(f\"Attention: There are {len(non_string_values)} values that are not strings in the column '{'reviewText'}'.\")\n",
    "    print(\"Examples of non-string values:\")\n",
    "    print(non_string_values['reviewText'].head())  # Displays some examples for inspection\n",
    "else:\n",
    "    print(\"All values in the column are strings.\")"
   ]
  },
  {
   "cell_type": "code",
   "execution_count": 42,
   "metadata": {},
   "outputs": [],
   "source": [
    "df['processed_comment'] = df['reviewText'].apply(preprocess) # Applying the preprocess function to each comment"
   ]
  },
  {
   "cell_type": "markdown",
   "metadata": {},
   "source": [
    "# EDA"
   ]
  },
  {
   "cell_type": "markdown",
   "metadata": {},
   "source": [
    "## Rating \n",
    "\n",
    "First, I'll investigate if there is any bias in the ratings. This is important for the sentiment analysis check since we can expect a correlation between sentiments and ratings."
   ]
  },
  {
   "cell_type": "code",
   "execution_count": 6,
   "metadata": {},
   "outputs": [
    {
     "data": {
      "image/png": "[encoded data removed]",
      "text/plain": [
       "<Figure size 1000x600 with 1 Axes>"
      ]
     },
     "metadata": {},
     "output_type": "display_data"
    }
   ],
   "source": [
    "#First plot is to see if our dataset have a bias for a rate (overall)\n",
    "\n",
    "rating_counts = df['overall'].value_counts().sort_index()\n",
    "\n",
    "\n",
    "plt.figure(figsize=(10, 6))\n",
    "bars = plt.bar(rating_counts.index, rating_counts, color='skyblue', edgecolor='black', linewidth=0.8)\n",
    "\n",
    "for bar in bars:\n",
    "    yval = bar.get_height()\n",
    "    plt.text(bar.get_x() + bar.get_width()/2, yval + 0.01, int(yval), ha='center', va='bottom', fontsize=14)\n",
    "\n",
    "plt.xlabel('Rating', fontsize=15, labelpad=10, fontweight='bold')\n",
    "plt.ylabel('Frequency', fontsize=15, labelpad=10, fontweight='bold')\n",
    "plt.title('Distribution of Ratings', fontsize=20, pad=10, fontweight='bold')\n",
    "plt.xticks(ticks=rating_counts.index, labels=rating_counts.index, fontsize=15)\n",
    "plt.yticks(fontsize=15)\n",
    "plt.grid(True, which='both', linestyle='--', linewidth=0.5, alpha=0.9)\n",
    "plt.tight_layout()\n",
    "plt.show()"
   ]
  },
  {
   "cell_type": "markdown",
   "metadata": {},
   "source": [
    "## Trend\n",
    "\n",
    "And import trend to considerar, is that people who give lower ratings are more likely to write comments and this comments tend to be longer."
   ]
  },
  {
   "cell_type": "code",
   "execution_count": 7,
   "metadata": {},
   "outputs": [
    {
     "data": {
      "image/png": "[encoded data removed]",
      "text/plain": [
       "<Figure size 1000x650 with 1 Axes>"
      ]
     },
     "metadata": {},
     "output_type": "display_data"
    }
   ],
   "source": [
    "# Using split to calculate the number of words in each comment\n",
    "df['Word Count'] = df['reviewText'].apply(lambda x: len(x.split()))\n",
    "\n",
    "# Calculating the average word count per rating\n",
    "average_word_count = df.groupby('overall')['Word Count'].mean()\n",
    "average_word_count_df = average_word_count.reset_index()\n",
    "\n",
    "# Plot to visualize the average word count per rating\n",
    "plt.figure(figsize=(10, 6.5))\n",
    "bars = plt.bar(average_word_count.index, average_word_count, color='lightcoral', edgecolor='black', linewidth=0.8)\n",
    "\n",
    "# Adding text labels above the bars\n",
    "for bar in bars:\n",
    "    yval = bar.get_height()\n",
    "    plt.text(bar.get_x() + bar.get_width()/2, yval + 0.01, f'{yval:.2f}', ha='center', va='bottom', fontsize=15)\n",
    "\n",
    "plt.xlabel('Rating', fontsize=15, labelpad=10, fontweight='bold')\n",
    "plt.ylabel('Average Word Count', fontsize=15, labelpad=10, fontweight='bold')\n",
    "plt.title('Average Word Count per Rating', fontsize=18, pad=10, fontweight='bold')\n",
    "plt.xticks(ticks=average_word_count.index, labels=average_word_count_df['overall'], fontsize=15)\n",
    "plt.yticks(fontsize=15)\n",
    "plt.grid(True, which='both', linestyle='--', linewidth=0.5, alpha=0.9)\n",
    "plt.tight_layout()\n",
    "plt.show()"
   ]
  },
  {
   "cell_type": "markdown",
   "metadata": {},
   "source": [
    "This confirms our expectation: \n",
    "- lower ratings (1 and 2) tend to have a higher average word count, \n",
    "- higher ratings have fewer words on average. \n",
    "\n",
    "This suggests that more satisfied customers are less likely to leave lengthy comments."
   ]
  },
  {
   "cell_type": "markdown",
   "metadata": {},
   "source": [
    "# Sentiment Analysis"
   ]
  },
  {
   "cell_type": "code",
   "execution_count": 10,
   "metadata": {},
   "outputs": [],
   "source": [
    "tqdm.pandas(desc=\"Processing sentiments\") # Adds a progress bar when applying the lambda function"
   ]
  },
  {
   "cell_type": "code",
   "execution_count": 11,
   "metadata": {},
   "outputs": [],
   "source": [
    "client = OpenAI(\n",
    "    #load_dotenv()\n",
    "    api_key=os.getenv('API_KEY'),\n",
    ")\n",
    "\n",
    "chat_completion = client.chat.completions.create(\n",
    "    messages=[\n",
    "        {\n",
    "            \"role\": \"user\",\n",
    "            \"content\": \"Say this is a test\",\n",
    "        }\n",
    "    ],\n",
    "    model=\"gpt-4o\",\n",
    ")"
   ]
  },
  {
   "cell_type": "code",
   "execution_count": 12,
   "metadata": {},
   "outputs": [],
   "source": [
    "def get_sentiment(text):\n",
    "    try:\n",
    "        completion = client.chat.completions.create(\n",
    "        model=\"gpt-4o\",\n",
    "        messages=[\n",
    "            {\"role\": \"system\", \"content\": \"You are a sentiment analysis assistant. Your task is to classify the sentiment of a given text as 'positive', 'negative', or 'neutral' based on its content.\"},\n",
    "            {\n",
    "                \"role\": \"user\",\n",
    "                \"content\": f\"The following text is feedback from a user answering the question: 'Do you have any feedback or suggestions?'. Please classify its sentiment as 'positive', 'negative', or 'neutral': '{text}'.\"\n",
    "            }\n",
    "        ]\n",
    "    )\n",
    "        match = re.search(r\"negative|neutral|positive\", completion.choices[0].message.content.strip(), re.IGNORECASE)\n",
    "        if match:\n",
    "            return match.group(0).lower()\n",
    "        else:\n",
    "            print(f\"No valid sentiment found in response: {completion.choices[0].message.content.strip()}\")\n",
    "            return \"undefined\"\n",
    "        \n",
    "    except Exception as e:\n",
    "        print(f\"Error processing text: '{text}' | Exception: {e}\")\n",
    "        return \"Error\""
   ]
  },
  {
   "cell_type": "code",
   "execution_count": 13,
   "metadata": {},
   "outputs": [
    {
     "data": {
      "application/vnd.jupyter.widget-view+json": {
       "model_id": "2fb7d511c6644f268ead26761a1595e6",
       "version_major": 2,
       "version_minor": 0
      },
      "text/plain": [
       "Processing sentiments:   0%|          | 0/4914 [00:00<?, ?it/s]"
      ]
     },
     "metadata": {},
     "output_type": "display_data"
    }
   ],
   "source": [
    "df['sentiment'] = df['processed_comment'].progress_apply(get_sentiment)\n",
    "\n",
    "#this part get 40min to finish, so I saved the dataframe and read again."
   ]
  },
  {
   "cell_type": "code",
   "execution_count": 15,
   "metadata": {},
   "outputs": [],
   "source": [
    "df.to_csv(\"sentiment_classified.csv\")"
   ]
  },
  {
   "cell_type": "code",
   "execution_count": 44,
   "metadata": {},
   "outputs": [],
   "source": [
    "df = pd.read_csv(\"sentiment_classified.csv\")"
   ]
  },
  {
   "cell_type": "code",
   "execution_count": 45,
   "metadata": {},
   "outputs": [],
   "source": [
    "sentiment_counts = df['sentiment'].value_counts()\n",
    "sentiment_labels = sentiment_counts.index.tolist()\n",
    "sentiment_values = sentiment_counts.values.tolist()"
   ]
  },
  {
   "cell_type": "code",
   "execution_count": 46,
   "metadata": {},
   "outputs": [],
   "source": [
    "sentiment_labels = ['positive', 'neutral', 'negative']"
   ]
  },
  {
   "cell_type": "markdown",
   "metadata": {},
   "source": [
    "## Overall Sentiment"
   ]
  },
  {
   "cell_type": "code",
   "execution_count": 47,
   "metadata": {},
   "outputs": [
    {
     "data": {
      "application/vnd.plotly.v1+json": {
       "config": {
        "plotlyServerURL": "https://plot.ly"
       },
       "data": [
        {
         "hoverinfo": "y",
         "marker": {
          "color": [
           "#6BCD53",
           "orange",
           "#FF6347"
          ]
         },
         "showlegend": false,
         "text": [
          "3665",
          "751",
          "498"
         ],
         "textfont": {
          "size": 18
         },
         "textposition": "inside",
         "type": "bar",
         "x": [
          "positive",
          "neutral",
          "negative"
         ],
         "xaxis": "x",
         "y": [
          3665,
          751,
          498
         ],
         "yaxis": "y"
        },
        {
         "domain": {
          "x": [
           0.55,
           1
          ],
          "y": [
           0,
           1
          ]
         },
         "hole": 0.4,
         "hoverinfo": "label+percent",
         "labels": [
          "positive",
          "neutral",
          "negative"
         ],
         "marker": {
          "colors": [
           "#6BCD53",
           "orange",
           "#FF6347"
          ]
         },
         "textfont": {
          "size": 18
         },
         "type": "pie",
         "values": [
          3665,
          751,
          498
         ]
        }
       ],
       "layout": {
        "annotations": [
         {
          "font": {
           "size": 20
          },
          "showarrow": false,
          "text": "Sentiment Count",
          "x": 0.11,
          "xref": "paper",
          "y": 1.1,
          "yref": "paper"
         },
         {
          "font": {
           "size": 20
          },
          "showarrow": false,
          "text": "Sentiment Percentage",
          "x": 0.92,
          "xref": "paper",
          "y": 1.1,
          "yref": "paper"
         }
        ],
        "height": 500,
        "template": {
         "data": {
          "bar": [
           {
            "error_x": {
             "color": "#2a3f5f"
            },
            "error_y": {
             "color": "#2a3f5f"
            },
            "marker": {
             "line": {
              "color": "#E5ECF6",
              "width": 0.5
             },
             "pattern": {
              "fillmode": "overlay",
              "size": 10,
              "solidity": 0.2
             }
            },
            "type": "bar"
           }
          ],
          "barpolar": [
           {
            "marker": {
             "line": {
              "color": "#E5ECF6",
              "width": 0.5
             },
             "pattern": {
              "fillmode": "overlay",
              "size": 10,
              "solidity": 0.2
             }
            },
            "type": "barpolar"
           }
          ],
          "carpet": [
           {
            "aaxis": {
             "endlinecolor": "#2a3f5f",
             "gridcolor": "white",
             "linecolor": "white",
             "minorgridcolor": "white",
             "startlinecolor": "#2a3f5f"
            },
            "baxis": {
             "endlinecolor": "#2a3f5f",
             "gridcolor": "white",
             "linecolor": "white",
             "minorgridcolor": "white",
             "startlinecolor": "#2a3f5f"
            },
            "type": "carpet"
           }
          ],
          "choropleth": [
           {
            "colorbar": {
             "outlinewidth": 0,
             "ticks": ""
            },
            "type": "choropleth"
           }
          ],
          "contour": [
           {
            "colorbar": {
             "outlinewidth": 0,
             "ticks": ""
            },
            "colorscale": [
             [
              0,
              "#0d0887"
             ],
             [
              0.1111111111111111,
              "#46039f"
             ],
             [
              0.2222222222222222,
              "#7201a8"
             ],
             [
              0.3333333333333333,
              "#9c179e"
             ],
             [
              0.4444444444444444,
              "#bd3786"
             ],
             [
              0.5555555555555556,
              "#d8576b"
             ],
             [
              0.6666666666666666,
              "#ed7953"
             ],
             [
              0.7777777777777778,
              "#fb9f3a"
             ],
             [
              0.8888888888888888,
              "#fdca26"
             ],
             [
              1,
              "#f0f921"
             ]
            ],
            "type": "contour"
           }
          ],
          "contourcarpet": [
           {
            "colorbar": {
             "outlinewidth": 0,
             "ticks": ""
            },
            "type": "contourcarpet"
           }
          ],
          "heatmap": [
           {
            "colorbar": {
             "outlinewidth": 0,
             "ticks": ""
            },
            "colorscale": [
             [
              0,
              "#0d0887"
             ],
             [
              0.1111111111111111,
              "#46039f"
             ],
             [
              0.2222222222222222,
              "#7201a8"
             ],
             [
              0.3333333333333333,
              "#9c179e"
             ],
             [
              0.4444444444444444,
              "#bd3786"
             ],
             [
              0.5555555555555556,
              "#d8576b"
             ],
             [
              0.6666666666666666,
              "#ed7953"
             ],
             [
              0.7777777777777778,
              "#fb9f3a"
             ],
             [
              0.8888888888888888,
              "#fdca26"
             ],
             [
              1,
              "#f0f921"
             ]
            ],
            "type": "heatmap"
           }
          ],
          "heatmapgl": [
           {
            "colorbar": {
             "outlinewidth": 0,
             "ticks": ""
            },
            "colorscale": [
             [
              0,
              "#0d0887"
             ],
             [
              0.1111111111111111,
              "#46039f"
             ],
             [
              0.2222222222222222,
              "#7201a8"
             ],
             [
              0.3333333333333333,
              "#9c179e"
             ],
             [
              0.4444444444444444,
              "#bd3786"
             ],
             [
              0.5555555555555556,
              "#d8576b"
             ],
             [
              0.6666666666666666,
              "#ed7953"
             ],
             [
              0.7777777777777778,
              "#fb9f3a"
             ],
             [
              0.8888888888888888,
              "#fdca26"
             ],
             [
              1,
              "#f0f921"
             ]
            ],
            "type": "heatmapgl"
           }
          ],
          "histogram": [
           {
            "marker": {
             "pattern": {
              "fillmode": "overlay",
              "size": 10,
              "solidity": 0.2
             }
            },
            "type": "histogram"
           }
          ],
          "histogram2d": [
           {
            "colorbar": {
             "outlinewidth": 0,
             "ticks": ""
            },
            "colorscale": [
             [
              0,
              "#0d0887"
             ],
             [
              0.1111111111111111,
              "#46039f"
             ],
             [
              0.2222222222222222,
              "#7201a8"
             ],
             [
              0.3333333333333333,
              "#9c179e"
             ],
             [
              0.4444444444444444,
              "#bd3786"
             ],
             [
              0.5555555555555556,
              "#d8576b"
             ],
             [
              0.6666666666666666,
              "#ed7953"
             ],
             [
              0.7777777777777778,
              "#fb9f3a"
             ],
             [
              0.8888888888888888,
              "#fdca26"
             ],
             [
              1,
              "#f0f921"
             ]
            ],
            "type": "histogram2d"
           }
          ],
          "histogram2dcontour": [
           {
            "colorbar": {
             "outlinewidth": 0,
             "ticks": ""
            },
            "colorscale": [
             [
              0,
              "#0d0887"
             ],
             [
              0.1111111111111111,
              "#46039f"
             ],
             [
              0.2222222222222222,
              "#7201a8"
             ],
             [
              0.3333333333333333,
              "#9c179e"
             ],
             [
              0.4444444444444444,
              "#bd3786"
             ],
             [
              0.5555555555555556,
              "#d8576b"
             ],
             [
              0.6666666666666666,
              "#ed7953"
             ],
             [
              0.7777777777777778,
              "#fb9f3a"
             ],
             [
              0.8888888888888888,
              "#fdca26"
             ],
             [
              1,
              "#f0f921"
             ]
            ],
            "type": "histogram2dcontour"
           }
          ],
          "mesh3d": [
           {
            "colorbar": {
             "outlinewidth": 0,
             "ticks": ""
            },
            "type": "mesh3d"
           }
          ],
          "parcoords": [
           {
            "line": {
             "colorbar": {
              "outlinewidth": 0,
              "ticks": ""
             }
            },
            "type": "parcoords"
           }
          ],
          "pie": [
           {
            "automargin": true,
            "type": "pie"
           }
          ],
          "scatter": [
           {
            "fillpattern": {
             "fillmode": "overlay",
             "size": 10,
             "solidity": 0.2
            },
            "type": "scatter"
           }
          ],
          "scatter3d": [
           {
            "line": {
             "colorbar": {
              "outlinewidth": 0,
              "ticks": ""
             }
            },
            "marker": {
             "colorbar": {
              "outlinewidth": 0,
              "ticks": ""
             }
            },
            "type": "scatter3d"
           }
          ],
          "scattercarpet": [
           {
            "marker": {
             "colorbar": {
              "outlinewidth": 0,
              "ticks": ""
             }
            },
            "type": "scattercarpet"
           }
          ],
          "scattergeo": [
           {
            "marker": {
             "colorbar": {
              "outlinewidth": 0,
              "ticks": ""
             }
            },
            "type": "scattergeo"
           }
          ],
          "scattergl": [
           {
            "marker": {
             "colorbar": {
              "outlinewidth": 0,
              "ticks": ""
             }
            },
            "type": "scattergl"
           }
          ],
          "scattermapbox": [
           {
            "marker": {
             "colorbar": {
              "outlinewidth": 0,
              "ticks": ""
             }
            },
            "type": "scattermapbox"
           }
          ],
          "scatterpolar": [
           {
            "marker": {
             "colorbar": {
              "outlinewidth": 0,
              "ticks": ""
             }
            },
            "type": "scatterpolar"
           }
          ],
          "scatterpolargl": [
           {
            "marker": {
             "colorbar": {
              "outlinewidth": 0,
              "ticks": ""
             }
            },
            "type": "scatterpolargl"
           }
          ],
          "scatterternary": [
           {
            "marker": {
             "colorbar": {
              "outlinewidth": 0,
              "ticks": ""
             }
            },
            "type": "scatterternary"
           }
          ],
          "surface": [
           {
            "colorbar": {
             "outlinewidth": 0,
             "ticks": ""
            },
            "colorscale": [
             [
              0,
              "#0d0887"
             ],
             [
              0.1111111111111111,
              "#46039f"
             ],
             [
              0.2222222222222222,
              "#7201a8"
             ],
             [
              0.3333333333333333,
              "#9c179e"
             ],
             [
              0.4444444444444444,
              "#bd3786"
             ],
             [
              0.5555555555555556,
              "#d8576b"
             ],
             [
              0.6666666666666666,
              "#ed7953"
             ],
             [
              0.7777777777777778,
              "#fb9f3a"
             ],
             [
              0.8888888888888888,
              "#fdca26"
             ],
             [
              1,
              "#f0f921"
             ]
            ],
            "type": "surface"
           }
          ],
          "table": [
           {
            "cells": {
             "fill": {
              "color": "#EBF0F8"
             },
             "line": {
              "color": "white"
             }
            },
            "header": {
             "fill": {
              "color": "#C8D4E3"
             },
             "line": {
              "color": "white"
             }
            },
            "type": "table"
           }
          ]
         },
         "layout": {
          "annotationdefaults": {
           "arrowcolor": "#2a3f5f",
           "arrowhead": 0,
           "arrowwidth": 1
          },
          "autotypenumbers": "strict",
          "coloraxis": {
           "colorbar": {
            "outlinewidth": 0,
            "ticks": ""
           }
          },
          "colorscale": {
           "diverging": [
            [
             0,
             "#8e0152"
            ],
            [
             0.1,
             "#c51b7d"
            ],
            [
             0.2,
             "#de77ae"
            ],
            [
             0.3,
             "#f1b6da"
            ],
            [
             0.4,
             "#fde0ef"
            ],
            [
             0.5,
             "#f7f7f7"
            ],
            [
             0.6,
             "#e6f5d0"
            ],
            [
             0.7,
             "#b8e186"
            ],
            [
             0.8,
             "#7fbc41"
            ],
            [
             0.9,
             "#4d9221"
            ],
            [
             1,
             "#276419"
            ]
           ],
           "sequential": [
            [
             0,
             "#0d0887"
            ],
            [
             0.1111111111111111,
             "#46039f"
            ],
            [
             0.2222222222222222,
             "#7201a8"
            ],
            [
             0.3333333333333333,
             "#9c179e"
            ],
            [
             0.4444444444444444,
             "#bd3786"
            ],
            [
             0.5555555555555556,
             "#d8576b"
            ],
            [
             0.6666666666666666,
             "#ed7953"
            ],
            [
             0.7777777777777778,
             "#fb9f3a"
            ],
            [
             0.8888888888888888,
             "#fdca26"
            ],
            [
             1,
             "#f0f921"
            ]
           ],
           "sequentialminus": [
            [
             0,
             "#0d0887"
            ],
            [
             0.1111111111111111,
             "#46039f"
            ],
            [
             0.2222222222222222,
             "#7201a8"
            ],
            [
             0.3333333333333333,
             "#9c179e"
            ],
            [
             0.4444444444444444,
             "#bd3786"
            ],
            [
             0.5555555555555556,
             "#d8576b"
            ],
            [
             0.6666666666666666,
             "#ed7953"
            ],
            [
             0.7777777777777778,
             "#fb9f3a"
            ],
            [
             0.8888888888888888,
             "#fdca26"
            ],
            [
             1,
             "#f0f921"
            ]
           ]
          },
          "colorway": [
           "#636efa",
           "#EF553B",
           "#00cc96",
           "#ab63fa",
           "#FFA15A",
           "#19d3f3",
           "#FF6692",
           "#B6E880",
           "#FF97FF",
           "#FECB52"
          ],
          "font": {
           "color": "#2a3f5f"
          },
          "geo": {
           "bgcolor": "white",
           "lakecolor": "white",
           "landcolor": "#E5ECF6",
           "showlakes": true,
           "showland": true,
           "subunitcolor": "white"
          },
          "hoverlabel": {
           "align": "left"
          },
          "hovermode": "closest",
          "mapbox": {
           "style": "light"
          },
          "paper_bgcolor": "white",
          "plot_bgcolor": "#E5ECF6",
          "polar": {
           "angularaxis": {
            "gridcolor": "white",
            "linecolor": "white",
            "ticks": ""
           },
           "bgcolor": "#E5ECF6",
           "radialaxis": {
            "gridcolor": "white",
            "linecolor": "white",
            "ticks": ""
           }
          },
          "scene": {
           "xaxis": {
            "backgroundcolor": "#E5ECF6",
            "gridcolor": "white",
            "gridwidth": 2,
            "linecolor": "white",
            "showbackground": true,
            "ticks": "",
            "zerolinecolor": "white"
           },
           "yaxis": {
            "backgroundcolor": "#E5ECF6",
            "gridcolor": "white",
            "gridwidth": 2,
            "linecolor": "white",
            "showbackground": true,
            "ticks": "",
            "zerolinecolor": "white"
           },
           "zaxis": {
            "backgroundcolor": "#E5ECF6",
            "gridcolor": "white",
            "gridwidth": 2,
            "linecolor": "white",
            "showbackground": true,
            "ticks": "",
            "zerolinecolor": "white"
           }
          },
          "shapedefaults": {
           "line": {
            "color": "#2a3f5f"
           }
          },
          "ternary": {
           "aaxis": {
            "gridcolor": "white",
            "linecolor": "white",
            "ticks": ""
           },
           "baxis": {
            "gridcolor": "white",
            "linecolor": "white",
            "ticks": ""
           },
           "bgcolor": "#E5ECF6",
           "caxis": {
            "gridcolor": "white",
            "linecolor": "white",
            "ticks": ""
           }
          },
          "title": {
           "x": 0.05
          },
          "xaxis": {
           "automargin": true,
           "gridcolor": "white",
           "linecolor": "white",
           "ticks": "",
           "title": {
            "standoff": 15
           },
           "zerolinecolor": "white",
           "zerolinewidth": 2
          },
          "yaxis": {
           "automargin": true,
           "gridcolor": "white",
           "linecolor": "white",
           "ticks": "",
           "title": {
            "standoff": 15
           },
           "zerolinecolor": "white",
           "zerolinewidth": 2
          }
         }
        },
        "title": {
         "font": {
          "size": 24
         },
         "text": "Sentiment Distributions",
         "x": 0.5
        },
        "width": 1000,
        "xaxis": {
         "anchor": "y",
         "domain": [
          0,
          0.45
         ]
        },
        "yaxis": {
         "anchor": "x",
         "domain": [
          0,
          1
         ]
        }
       }
      }
     },
     "metadata": {},
     "output_type": "display_data"
    }
   ],
   "source": [
    "# This script visualizes sentiment analysis results using two types of charts: a bar chart and a pie chart.\n",
    "# The first chart is a grouped bar chart that displays sentiment counts for each category (positive, neutral, negative).\n",
    "# The second chart is a pie chart showing the proportion of each sentiment category.\n",
    "# Both charts use custom colors for consistency across visualizations.\n",
    "\n",
    "# Colors are defined for each sentiment (positive, neutral, and negative) to visually distinguish the categories.\n",
    "colors = {'positive': '#6BCD53', 'neutral': 'orange', 'negative': '#FF6347'}\n",
    "\n",
    "# Sorting the colors according to the sentiment labels for consistent application in both charts.\n",
    "sorted_colors = [colors[label] for label in sentiment_labels]\n",
    "\n",
    "# Creating a layout with two subplots: one for the bar chart and one for the pie chart.\n",
    "fig = make_subplots(rows=1, cols=2, specs=[[{'type':'bar'}, {'type':'domain'}]])\n",
    "\n",
    "# Adding a bar chart to the first subplot, showing sentiment counts with the text labels inside each bar.\n",
    "# The bars are colored according to the sentiment, and the text is positioned for clear visibility.\n",
    "fig.add_trace(\n",
    "    go.Bar(\n",
    "        x=sentiment_labels, \n",
    "        y=sentiment_values, \n",
    "        marker_color=sorted_colors, \n",
    "        text=sentiment_values, \n",
    "        textposition='inside', \n",
    "        showlegend=False,\n",
    "        hoverinfo='y',\n",
    "        textfont=dict(size=18)\n",
    "    ),\n",
    "    row=1, col=1\n",
    ")\n",
    "\n",
    "# Adding a pie chart to the second subplot, representing the sentiment distribution as percentages.\n",
    "# The pie chart has a hole in the center (donut chart), and the colors match those used in the bar chart.\n",
    "fig.add_trace(\n",
    "    go.Pie(\n",
    "        labels=sentiment_labels, \n",
    "        values=sentiment_values, \n",
    "        hole=.4, \n",
    "        marker=dict(colors=sorted_colors), \n",
    "        hoverinfo='label+percent',\n",
    "        textfont=dict(size=18)\n",
    "    ),\n",
    "    row=1, col=2\n",
    ")\n",
    "\n",
    "# Updating the layout to include a title, annotations, and overall chart dimensions.\n",
    "# The title is centered, and annotations describe the two charts for clarity.\n",
    "fig.update_layout(\n",
    "    title_text='Sentiment Distributions',\n",
    "    title_x=0.5,  # Center the main title\n",
    "    title_font=dict(size=24),  # Increase the font size of the title\n",
    "    annotations=[\n",
    "        dict(text='Sentiment Count', x=0.11, y=1.1, xref='paper', yref='paper', showarrow=False, font=dict(size=20)),\n",
    "        dict(text='Sentiment Percentage', x=0.92, y=1.1, xref='paper', yref='paper', showarrow=False, font=dict(size=20))\n",
    "    ],\n",
    "    width=1000,  # Set the width of the figure\n",
    "    height=500   # Set the height of the figure\n",
    ")\n",
    "\n",
    "# Display the final combined visualization with the bar chart and pie chart side by side.\n",
    "fig.show()\n"
   ]
  },
  {
   "cell_type": "markdown",
   "metadata": {},
   "source": [
    "This was expected, since we saw that the higher values of Ratings are in rating 4 to 5, this means, very good rates.\n",
    "\n",
    "But to confirme more clearly about that, we now go see a plot with the correlation between the rating and the sentiment."
   ]
  },
  {
   "cell_type": "markdown",
   "metadata": {},
   "source": [
    "## Correlation between sentiment and rating"
   ]
  },
  {
   "cell_type": "code",
   "execution_count": 15,
   "metadata": {},
   "outputs": [
    {
     "data": {
      "application/vnd.plotly.v1+json": {
       "config": {
        "plotlyServerURL": "https://plot.ly"
       },
       "data": [
        {
         "marker": {
          "color": "#FF6347"
         },
         "name": "Negative",
         "text": [
          235,
          74,
          81,
          52,
          56
         ],
         "textfont": {
          "size": 18
         },
         "textposition": "outside",
         "type": "bar",
         "width": 0.25,
         "x": [
          0,
          1,
          2,
          3,
          4
         ],
         "y": [
          235,
          74,
          81,
          52,
          56
         ]
        },
        {
         "marker": {
          "color": "orange"
         },
         "name": "Neutral",
         "text": [
          7,
          6,
          46,
          202,
          490
         ],
         "textfont": {
          "size": 18
         },
         "textposition": "outside",
         "type": "bar",
         "width": 0.25,
         "x": [
          0.25,
          1.25,
          2.25,
          3.25,
          4.25
         ],
         "y": [
          7,
          6,
          46,
          202,
          490
         ]
        },
        {
         "marker": {
          "color": "#6BCD53"
         },
         "name": "Positive",
         "text": [
          2,
          0,
          15,
          273,
          3375
         ],
         "textfont": {
          "size": 18
         },
         "textposition": "outside",
         "type": "bar",
         "width": 0.25,
         "x": [
          0.5,
          1.5,
          2.5,
          3.5,
          4.5
         ],
         "y": [
          2,
          0,
          15,
          273,
          3375
         ]
        }
       ],
       "layout": {
        "barmode": "group",
        "height": 700,
        "legend": {
         "font": {
          "size": 20
         },
         "title": {
          "font": {
           "size": 20
          },
          "text": ""
         }
        },
        "margin": {
         "b": 40,
         "l": 40,
         "r": 40,
         "t": 40
        },
        "template": {
         "data": {
          "bar": [
           {
            "error_x": {
             "color": "#2a3f5f"
            },
            "error_y": {
             "color": "#2a3f5f"
            },
            "marker": {
             "line": {
              "color": "#E5ECF6",
              "width": 0.5
             },
             "pattern": {
              "fillmode": "overlay",
              "size": 10,
              "solidity": 0.2
             }
            },
            "type": "bar"
           }
          ],
          "barpolar": [
           {
            "marker": {
             "line": {
              "color": "#E5ECF6",
              "width": 0.5
             },
             "pattern": {
              "fillmode": "overlay",
              "size": 10,
              "solidity": 0.2
             }
            },
            "type": "barpolar"
           }
          ],
          "carpet": [
           {
            "aaxis": {
             "endlinecolor": "#2a3f5f",
             "gridcolor": "white",
             "linecolor": "white",
             "minorgridcolor": "white",
             "startlinecolor": "#2a3f5f"
            },
            "baxis": {
             "endlinecolor": "#2a3f5f",
             "gridcolor": "white",
             "linecolor": "white",
             "minorgridcolor": "white",
             "startlinecolor": "#2a3f5f"
            },
            "type": "carpet"
           }
          ],
          "choropleth": [
           {
            "colorbar": {
             "outlinewidth": 0,
             "ticks": ""
            },
            "type": "choropleth"
           }
          ],
          "contour": [
           {
            "colorbar": {
             "outlinewidth": 0,
             "ticks": ""
            },
            "colorscale": [
             [
              0,
              "#0d0887"
             ],
             [
              0.1111111111111111,
              "#46039f"
             ],
             [
              0.2222222222222222,
              "#7201a8"
             ],
             [
              0.3333333333333333,
              "#9c179e"
             ],
             [
              0.4444444444444444,
              "#bd3786"
             ],
             [
              0.5555555555555556,
              "#d8576b"
             ],
             [
              0.6666666666666666,
              "#ed7953"
             ],
             [
              0.7777777777777778,
              "#fb9f3a"
             ],
             [
              0.8888888888888888,
              "#fdca26"
             ],
             [
              1,
              "#f0f921"
             ]
            ],
            "type": "contour"
           }
          ],
          "contourcarpet": [
           {
            "colorbar": {
             "outlinewidth": 0,
             "ticks": ""
            },
            "type": "contourcarpet"
           }
          ],
          "heatmap": [
           {
            "colorbar": {
             "outlinewidth": 0,
             "ticks": ""
            },
            "colorscale": [
             [
              0,
              "#0d0887"
             ],
             [
              0.1111111111111111,
              "#46039f"
             ],
             [
              0.2222222222222222,
              "#7201a8"
             ],
             [
              0.3333333333333333,
              "#9c179e"
             ],
             [
              0.4444444444444444,
              "#bd3786"
             ],
             [
              0.5555555555555556,
              "#d8576b"
             ],
             [
              0.6666666666666666,
              "#ed7953"
             ],
             [
              0.7777777777777778,
              "#fb9f3a"
             ],
             [
              0.8888888888888888,
              "#fdca26"
             ],
             [
              1,
              "#f0f921"
             ]
            ],
            "type": "heatmap"
           }
          ],
          "heatmapgl": [
           {
            "colorbar": {
             "outlinewidth": 0,
             "ticks": ""
            },
            "colorscale": [
             [
              0,
              "#0d0887"
             ],
             [
              0.1111111111111111,
              "#46039f"
             ],
             [
              0.2222222222222222,
              "#7201a8"
             ],
             [
              0.3333333333333333,
              "#9c179e"
             ],
             [
              0.4444444444444444,
              "#bd3786"
             ],
             [
              0.5555555555555556,
              "#d8576b"
             ],
             [
              0.6666666666666666,
              "#ed7953"
             ],
             [
              0.7777777777777778,
              "#fb9f3a"
             ],
             [
              0.8888888888888888,
              "#fdca26"
             ],
             [
              1,
              "#f0f921"
             ]
            ],
            "type": "heatmapgl"
           }
          ],
          "histogram": [
           {
            "marker": {
             "pattern": {
              "fillmode": "overlay",
              "size": 10,
              "solidity": 0.2
             }
            },
            "type": "histogram"
           }
          ],
          "histogram2d": [
           {
            "colorbar": {
             "outlinewidth": 0,
             "ticks": ""
            },
            "colorscale": [
             [
              0,
              "#0d0887"
             ],
             [
              0.1111111111111111,
              "#46039f"
             ],
             [
              0.2222222222222222,
              "#7201a8"
             ],
             [
              0.3333333333333333,
              "#9c179e"
             ],
             [
              0.4444444444444444,
              "#bd3786"
             ],
             [
              0.5555555555555556,
              "#d8576b"
             ],
             [
              0.6666666666666666,
              "#ed7953"
             ],
             [
              0.7777777777777778,
              "#fb9f3a"
             ],
             [
              0.8888888888888888,
              "#fdca26"
             ],
             [
              1,
              "#f0f921"
             ]
            ],
            "type": "histogram2d"
           }
          ],
          "histogram2dcontour": [
           {
            "colorbar": {
             "outlinewidth": 0,
             "ticks": ""
            },
            "colorscale": [
             [
              0,
              "#0d0887"
             ],
             [
              0.1111111111111111,
              "#46039f"
             ],
             [
              0.2222222222222222,
              "#7201a8"
             ],
             [
              0.3333333333333333,
              "#9c179e"
             ],
             [
              0.4444444444444444,
              "#bd3786"
             ],
             [
              0.5555555555555556,
              "#d8576b"
             ],
             [
              0.6666666666666666,
              "#ed7953"
             ],
             [
              0.7777777777777778,
              "#fb9f3a"
             ],
             [
              0.8888888888888888,
              "#fdca26"
             ],
             [
              1,
              "#f0f921"
             ]
            ],
            "type": "histogram2dcontour"
           }
          ],
          "mesh3d": [
           {
            "colorbar": {
             "outlinewidth": 0,
             "ticks": ""
            },
            "type": "mesh3d"
           }
          ],
          "parcoords": [
           {
            "line": {
             "colorbar": {
              "outlinewidth": 0,
              "ticks": ""
             }
            },
            "type": "parcoords"
           }
          ],
          "pie": [
           {
            "automargin": true,
            "type": "pie"
           }
          ],
          "scatter": [
           {
            "fillpattern": {
             "fillmode": "overlay",
             "size": 10,
             "solidity": 0.2
            },
            "type": "scatter"
           }
          ],
          "scatter3d": [
           {
            "line": {
             "colorbar": {
              "outlinewidth": 0,
              "ticks": ""
             }
            },
            "marker": {
             "colorbar": {
              "outlinewidth": 0,
              "ticks": ""
             }
            },
            "type": "scatter3d"
           }
          ],
          "scattercarpet": [
           {
            "marker": {
             "colorbar": {
              "outlinewidth": 0,
              "ticks": ""
             }
            },
            "type": "scattercarpet"
           }
          ],
          "scattergeo": [
           {
            "marker": {
             "colorbar": {
              "outlinewidth": 0,
              "ticks": ""
             }
            },
            "type": "scattergeo"
           }
          ],
          "scattergl": [
           {
            "marker": {
             "colorbar": {
              "outlinewidth": 0,
              "ticks": ""
             }
            },
            "type": "scattergl"
           }
          ],
          "scattermapbox": [
           {
            "marker": {
             "colorbar": {
              "outlinewidth": 0,
              "ticks": ""
             }
            },
            "type": "scattermapbox"
           }
          ],
          "scatterpolar": [
           {
            "marker": {
             "colorbar": {
              "outlinewidth": 0,
              "ticks": ""
             }
            },
            "type": "scatterpolar"
           }
          ],
          "scatterpolargl": [
           {
            "marker": {
             "colorbar": {
              "outlinewidth": 0,
              "ticks": ""
             }
            },
            "type": "scatterpolargl"
           }
          ],
          "scatterternary": [
           {
            "marker": {
             "colorbar": {
              "outlinewidth": 0,
              "ticks": ""
             }
            },
            "type": "scatterternary"
           }
          ],
          "surface": [
           {
            "colorbar": {
             "outlinewidth": 0,
             "ticks": ""
            },
            "colorscale": [
             [
              0,
              "#0d0887"
             ],
             [
              0.1111111111111111,
              "#46039f"
             ],
             [
              0.2222222222222222,
              "#7201a8"
             ],
             [
              0.3333333333333333,
              "#9c179e"
             ],
             [
              0.4444444444444444,
              "#bd3786"
             ],
             [
              0.5555555555555556,
              "#d8576b"
             ],
             [
              0.6666666666666666,
              "#ed7953"
             ],
             [
              0.7777777777777778,
              "#fb9f3a"
             ],
             [
              0.8888888888888888,
              "#fdca26"
             ],
             [
              1,
              "#f0f921"
             ]
            ],
            "type": "surface"
           }
          ],
          "table": [
           {
            "cells": {
             "fill": {
              "color": "#EBF0F8"
             },
             "line": {
              "color": "white"
             }
            },
            "header": {
             "fill": {
              "color": "#C8D4E3"
             },
             "line": {
              "color": "white"
             }
            },
            "type": "table"
           }
          ]
         },
         "layout": {
          "annotationdefaults": {
           "arrowcolor": "#2a3f5f",
           "arrowhead": 0,
           "arrowwidth": 1
          },
          "autotypenumbers": "strict",
          "coloraxis": {
           "colorbar": {
            "outlinewidth": 0,
            "ticks": ""
           }
          },
          "colorscale": {
           "diverging": [
            [
             0,
             "#8e0152"
            ],
            [
             0.1,
             "#c51b7d"
            ],
            [
             0.2,
             "#de77ae"
            ],
            [
             0.3,
             "#f1b6da"
            ],
            [
             0.4,
             "#fde0ef"
            ],
            [
             0.5,
             "#f7f7f7"
            ],
            [
             0.6,
             "#e6f5d0"
            ],
            [
             0.7,
             "#b8e186"
            ],
            [
             0.8,
             "#7fbc41"
            ],
            [
             0.9,
             "#4d9221"
            ],
            [
             1,
             "#276419"
            ]
           ],
           "sequential": [
            [
             0,
             "#0d0887"
            ],
            [
             0.1111111111111111,
             "#46039f"
            ],
            [
             0.2222222222222222,
             "#7201a8"
            ],
            [
             0.3333333333333333,
             "#9c179e"
            ],
            [
             0.4444444444444444,
             "#bd3786"
            ],
            [
             0.5555555555555556,
             "#d8576b"
            ],
            [
             0.6666666666666666,
             "#ed7953"
            ],
            [
             0.7777777777777778,
             "#fb9f3a"
            ],
            [
             0.8888888888888888,
             "#fdca26"
            ],
            [
             1,
             "#f0f921"
            ]
           ],
           "sequentialminus": [
            [
             0,
             "#0d0887"
            ],
            [
             0.1111111111111111,
             "#46039f"
            ],
            [
             0.2222222222222222,
             "#7201a8"
            ],
            [
             0.3333333333333333,
             "#9c179e"
            ],
            [
             0.4444444444444444,
             "#bd3786"
            ],
            [
             0.5555555555555556,
             "#d8576b"
            ],
            [
             0.6666666666666666,
             "#ed7953"
            ],
            [
             0.7777777777777778,
             "#fb9f3a"
            ],
            [
             0.8888888888888888,
             "#fdca26"
            ],
            [
             1,
             "#f0f921"
            ]
           ]
          },
          "colorway": [
           "#636efa",
           "#EF553B",
           "#00cc96",
           "#ab63fa",
           "#FFA15A",
           "#19d3f3",
           "#FF6692",
           "#B6E880",
           "#FF97FF",
           "#FECB52"
          ],
          "font": {
           "color": "#2a3f5f"
          },
          "geo": {
           "bgcolor": "white",
           "lakecolor": "white",
           "landcolor": "#E5ECF6",
           "showlakes": true,
           "showland": true,
           "subunitcolor": "white"
          },
          "hoverlabel": {
           "align": "left"
          },
          "hovermode": "closest",
          "mapbox": {
           "style": "light"
          },
          "paper_bgcolor": "white",
          "plot_bgcolor": "#E5ECF6",
          "polar": {
           "angularaxis": {
            "gridcolor": "white",
            "linecolor": "white",
            "ticks": ""
           },
           "bgcolor": "#E5ECF6",
           "radialaxis": {
            "gridcolor": "white",
            "linecolor": "white",
            "ticks": ""
           }
          },
          "scene": {
           "xaxis": {
            "backgroundcolor": "#E5ECF6",
            "gridcolor": "white",
            "gridwidth": 2,
            "linecolor": "white",
            "showbackground": true,
            "ticks": "",
            "zerolinecolor": "white"
           },
           "yaxis": {
            "backgroundcolor": "#E5ECF6",
            "gridcolor": "white",
            "gridwidth": 2,
            "linecolor": "white",
            "showbackground": true,
            "ticks": "",
            "zerolinecolor": "white"
           },
           "zaxis": {
            "backgroundcolor": "#E5ECF6",
            "gridcolor": "white",
            "gridwidth": 2,
            "linecolor": "white",
            "showbackground": true,
            "ticks": "",
            "zerolinecolor": "white"
           }
          },
          "shapedefaults": {
           "line": {
            "color": "#2a3f5f"
           }
          },
          "ternary": {
           "aaxis": {
            "gridcolor": "white",
            "linecolor": "white",
            "ticks": ""
           },
           "baxis": {
            "gridcolor": "white",
            "linecolor": "white",
            "ticks": ""
           },
           "bgcolor": "#E5ECF6",
           "caxis": {
            "gridcolor": "white",
            "linecolor": "white",
            "ticks": ""
           }
          },
          "title": {
           "x": 0.05
          },
          "xaxis": {
           "automargin": true,
           "gridcolor": "white",
           "linecolor": "white",
           "ticks": "",
           "title": {
            "standoff": 15
           },
           "zerolinecolor": "white",
           "zerolinewidth": 2
          },
          "yaxis": {
           "automargin": true,
           "gridcolor": "white",
           "linecolor": "white",
           "ticks": "",
           "title": {
            "standoff": 15
           },
           "zerolinecolor": "white",
           "zerolinewidth": 2
          }
         }
        },
        "title": {
         "text": "Sentiment Distribution by Rating"
        },
        "width": 1200,
        "xaxis": {
         "range": [
          -0.2,
          4.77
         ],
         "tickfont": {
          "size": 20
         },
         "tickmode": "array",
         "ticktext": [
          "1.0",
          "2.0",
          "3.0",
          "4.0",
          "5.0"
         ],
         "tickvals": [
          0.25,
          1.25,
          2.25,
          3.25,
          4.25
         ],
         "title": {
          "font": {
           "size": 20
          },
          "text": "Rating"
         }
        },
        "yaxis": {
         "tickfont": {
          "size": 20
         },
         "title": {
          "font": {
           "size": 20
          },
          "text": "Count"
         }
        }
       }
      }
     },
     "metadata": {},
     "output_type": "display_data"
    }
   ],
   "source": [
    "# Step 1: Aggregate the data by 'Rating' and 'Sentiment' category\n",
    "# The aggregation counts the number of occurrences of each sentiment for each rating category.\n",
    "# This prepares the data for a grouped bar chart where we can compare sentiment distribution across ratings.\n",
    "sentiment_by_rating = df.groupby(['overall', 'sentiment']).size().unstack(fill_value=0)\n",
    "\n",
    "# Step 2: Extract the 'overall' rating categories and the 'sentiment' labels\n",
    "# 'categories' (i.e., ratings) will serve as the x-axis values, while 'labels' will be used to define the groups of bars.\n",
    "categories = sentiment_by_rating.index\n",
    "labels = sentiment_by_rating.columns\n",
    "\n",
    "# Step 3: Convert the DataFrame's sentiment counts into a list of numpy arrays\n",
    "# Each array represents the counts of a particular sentiment (e.g., positive, neutral, negative) across all ratings.\n",
    "# This step simplifies accessing the data for plotting in the bar chart.\n",
    "data = [sentiment_by_rating[label].values for label in labels]\n",
    "\n",
    "# Step 4: Define the width of each bar in the bar chart\n",
    "bar_width = 0.25  # This controls the thickness of each bar in the grouped bar chart.\n",
    "\n",
    "# Step 5: Calculate the x-axis positions for each group of bars\n",
    "# 'r1' is the starting position for the first group of bars (negative sentiment).\n",
    "# 'r2' is the starting position for the second group of bars (neutral sentiment), shifted by the bar width.\n",
    "# 'r3' is for the third group (positive sentiment), also shifted accordingly.\n",
    "r1 = np.arange(len(categories))\n",
    "r2 = [x + bar_width for x in r1]\n",
    "r3 = [x + bar_width for x in r2]\n",
    "\n",
    "# Step 6: Initialize the Plotly figure for the grouped bar chart\n",
    "fig = go.Figure()\n",
    "\n",
    "# Step 7: Add the first set of bars representing 'Negative' sentiment\n",
    "fig.add_trace(go.Bar(\n",
    "    x=r1,  # x-axis positions for negative sentiment bars\n",
    "    y=data[0],  # The counts of negative sentiment\n",
    "    name='Negative', \n",
    "    marker_color='#FF6347', \n",
    "    width=bar_width,  \n",
    "    text=data[0],  # Display the count above each bar\n",
    "    textposition='outside',  # Position the text above the bar\n",
    "    textfont=dict(size=18) \n",
    "))\n",
    "\n",
    "# Step 8: Add the second set of bars for 'Neutral' sentiment\n",
    "fig.add_trace(go.Bar(\n",
    "    x=r2,  # x-axis positions for neutral sentiment bars\n",
    "    y=data[1],  # The counts of neutral sentiment\n",
    "    name='Neutral',  \n",
    "    marker_color='orange',  \n",
    "    width=bar_width, \n",
    "    text=data[1],  # Show counts above each bar\n",
    "    textposition='outside',  # Text positioned outside for clarity\n",
    "    textfont=dict(size=18)  \n",
    "))\n",
    "\n",
    "# Step 9: Add the third set of bars for 'Positive' sentiment\n",
    "fig.add_trace(go.Bar(\n",
    "    x=r3,  # x-axis positions for positive sentiment bars\n",
    "    y=data[2],  # The counts of positive sentiment\n",
    "    name='Positive',  \n",
    "    marker_color='#6BCD53',  \n",
    "    width=bar_width, \n",
    "    text=data[2],  # Display counts above bars\n",
    "    textposition='outside',  # Positioning text above the bar\n",
    "    textfont=dict(size=18) \n",
    "))\n",
    "\n",
    "# Step 10: Update the layout for visual clarity and aesthetics\n",
    "fig.update_layout(\n",
    "    title='Sentiment Distribution by Rating',  # Title of the entire chart\n",
    "    xaxis=dict(\n",
    "        title='Rating',  \n",
    "        title_font={\"size\": 20}, \n",
    "        tickmode='array',  \n",
    "        tickvals=[r + bar_width for r in range(len(r1))],  \n",
    "        ticktext=[str(rating) for rating in categories], \n",
    "        tickfont={\"size\": 20},  \n",
    "        range=[-0.2, len(categories) - 0.98 + bar_width * 3]  \n",
    "    ),\n",
    "    yaxis=dict(\n",
    "        title='Count', \n",
    "        title_font={\"size\": 20},  \n",
    "        tickfont={\"size\": 20}  \n",
    "    ),\n",
    "    barmode='group',  \n",
    "    margin=dict(l=40, r=40, t=40, b=40),  \n",
    "    legend_title=\"\",  \n",
    "    legend_title_font={\"size\": 20},  \n",
    "    legend=dict(\n",
    "        font=dict(size=20)  \n",
    "    ),\n",
    "    width=1200,  \n",
    "    height=700  \n",
    ")\n",
    "\n",
    "# Step 11: Display the final chart\n",
    "fig.show()\n"
   ]
  },
  {
   "cell_type": "markdown",
   "metadata": {},
   "source": [
    "As observed, there is a strong concentration of positive sentiments in the 5-star ratings, with a clear decline as the ratings decrease. \n",
    "\n",
    "This trend indicates that the sentiment classification aligns well with the expected pattern, suggesting the model is correctly associating higher ratings with more positive feedback and lower ratings with more negative sentiments. This consistency reinforces the accuracy of the sentiment analysis in capturing the relationship between customer satisfaction and rating."
   ]
  },
  {
   "cell_type": "markdown",
   "metadata": {},
   "source": [
    "# Topic Classification\n",
    "\n",
    "For the topic classification, I will use a different Large Language Model (LLM) instead of OpenAI's models. The goal is to explore an alternative approach and demonstrate the use of another LLM.\n",
    "\n",
    "The chosen model is DeBERTa Large, fine-tuned for Zero-Shot classification.\n",
    "\n",
    "You can find the documentation here: [DeBERTa-v3-large-zeroshot-v2.0.](https://huggingface.co/MoritzLaurer/deberta-v3-large-zeroshot-v2.0)"
   ]
  },
  {
   "cell_type": "markdown",
   "metadata": {},
   "source": [
    "## Approach\n",
    "\n",
    "1. To enable Zero-Shot topic classification, I predefined general topics commonly found in feedback on platforms like Amazon. These include:\n",
    "    - Price\n",
    "    - Quality\n",
    "    - Product functionality \n",
    "    - Compatibility with devices (e.g., SD cards, phones, and cameras)\n",
    "    - Delivery Service\n",
    "\n",
    "2. There are multiple ways to provide context to the model. I chose to offer a context that includes a brief summary of what each topic represents. This context will be referred to as feature descriptions."
   ]
  },
  {
   "cell_type": "code",
   "execution_count": 48,
   "metadata": {},
   "outputs": [],
   "source": [
    "features_description = {\n",
    "    \"Price\": \"Evaluation of the product's cost, whether it's considered affordable, expensive, or offers good value for the price paid compared to similar products.\",\n",
    "\n",
    "    \"Quality\": \"Assessment of the product's durability, materials used, reliability, and overall build quality, including whether it meets customer expectations for longevity and performance.\",\n",
    "\n",
    "    \"Product functionality\": \"How effectively the product fulfills its intended purpose, including performance, ease of use, and whether it works as described or expected by the customer.\",\n",
    "\n",
    "    \"Compatibility with devices\": \"Whether the product functions well with other devices, such as SD cards, phones, or cameras, and how seamlessly it integrates or adapts to different systems.\",\n",
    "\n",
    "    \"Delivery Service\": \"Customer experience regarding shipping speed, packaging quality, condition of the product upon arrival, and how reliable the delivery process was overall.\"\n",
    "}"
   ]
  },
  {
   "cell_type": "code",
   "execution_count": 84,
   "metadata": {},
   "outputs": [
    {
     "name": "stderr",
     "output_type": "stream",
     "text": [
      "All PyTorch model weights were used when initializing TFDebertaV2ForSequenceClassification.\n",
      "\n",
      "All the weights of TFDebertaV2ForSequenceClassification were initialized from the PyTorch model.\n",
      "If your task is similar to the task the model of the checkpoint was trained on, you can already use TFDebertaV2ForSequenceClassification for predictions without further training.\n"
     ]
    }
   ],
   "source": [
    "deberta_classifier = pipeline(\"zero-shot-classification\",\n",
    "                      model=\"MoritzLaurer/deberta-v3-large-zeroshot-v2.0\",\n",
    "                      batch_size=2)"
   ]
  },
  {
   "cell_type": "code",
   "execution_count": 93,
   "metadata": {},
   "outputs": [],
   "source": [
    "def get_topics(text, input_features):\n",
    "    \"\"\"\n",
    "    Classifies the provided text into topics or keywords based on the type of `input_features` (list or dict).\n",
    "\n",
    "    Args:\n",
    "        text (str): The text to be classified.\n",
    "        classifier (callable): The classification model to be used.\n",
    "        input_features (list or dict): A list of topics or a dictionary of categories with keywords.\n",
    "\n",
    "    Returns:\n",
    "        dict: A dictionary with topics or categories as keys and their respective confidences as values, summing up to 1 (100%).\n",
    "\n",
    "        Example: {'usability': 0.8, 'performance': 0.1, 'quality': 0.05, 'error handling': 0.03, 'personal data': 0.02}\n",
    "    \"\"\"\n",
    "   \n",
    "    #TOPICS DESCRIPTIONS\n",
    "    if isinstance(input_features, dict):\n",
    "        # Create a reverse mapping from descriptions to category names\n",
    "        description_to_category = {description: category for category, description in input_features.items()}\n",
    "        descriptions = list(input_features.values())\n",
    "\n",
    "        # Classify using the descriptions\n",
    "        result = deberta_classifier(text, descriptions, multi_label=False)\n",
    "        sorted_descriptions = sorted(zip(result['labels'], result['scores']), key=lambda x: x[1], reverse=True)\n",
    "\n",
    "        # Map sorted descriptions back to categories and record scores\n",
    "        category_scores = {}\n",
    "        for description, score in sorted_descriptions:\n",
    "            category = description_to_category[description]\n",
    "            if category not in category_scores or score > category_scores[category]:\n",
    "                category_scores[category] = score\n",
    "\n",
    "            top_topic, top_score = max(category_scores.items(), key=lambda item: item[1])\n",
    "  \n",
    "        return top_topic\n",
    "        \n",
    "      \n",
    "    \n",
    "    else:\n",
    "        raise ValueError(\"input_features must be either a list of topics or a dictionary of categories with descriptions.\")"
   ]
  },
  {
   "cell_type": "code",
   "execution_count": 86,
   "metadata": {},
   "outputs": [],
   "source": [
    "tqdm.pandas(desc=\"Processing topics\") #Adds a progress bar "
   ]
  },
  {
   "cell_type": "code",
   "execution_count": null,
   "metadata": {},
   "outputs": [],
   "source": [
    "df['deberta_topics'] = df['processed_comment'].progress_apply(lambda x: get_topics(x, features_description))"
   ]
  },
  {
   "cell_type": "code",
   "execution_count": 94,
   "metadata": {},
   "outputs": [
    {
     "data": {
      "text/plain": [
       "deberta_topics\n",
       "Product functionality         3046\n",
       "Compatibility with devices    1021\n",
       "Quality                        441\n",
       "Price                          299\n",
       "Delivery Service               107\n",
       "Name: count, dtype: int64"
      ]
     },
     "execution_count": 94,
     "metadata": {},
     "output_type": "execute_result"
    }
   ],
   "source": [
    "df = pd.read_csv('topics_classified.csv')\n",
    "df['deberta_topics'].value_counts()"
   ]
  },
  {
   "cell_type": "code",
   "execution_count": 95,
   "metadata": {},
   "outputs": [
    {
     "data": {
      "image/png": "[encoded data removed]",
      "text/plain": [
       "<Figure size 1200x700 with 1 Axes>"
      ]
     },
     "metadata": {},
     "output_type": "display_data"
    }
   ],
   "source": [
    "real_topic_counts = df['deberta_topics'].value_counts()\n",
    "\n",
    "# Create a grouped bar plot\n",
    "fig, ax = plt.subplots(figsize=(12, 7))\n",
    "bars = real_topic_counts.plot(kind='bar', ax=ax, color=['salmon'], edgecolor='black')\n",
    "ax.set_title('Comparison of GPT-4o Predicted and Real Topic Distributions', fontsize=20, fontweight='bold')\n",
    "ax.set_xlabel('Topic', fontsize=16, fontweight='bold')\n",
    "ax.set_ylabel('Frequency', fontsize=16, fontweight='bold')\n",
    "ax.tick_params(axis='x', rotation=0)\n",
    "ax.grid(True, linestyle='--', alpha=0.6)\n",
    "\n",
    "# Annotate each individual bar with its count\n",
    "for container in bars.containers:\n",
    "    ax.bar_label(container, fmt='%.0f', padding=3)  # Using padding for better spacing from the bar top\n",
    "\n",
    "plt.legend(fontsize='large', title_fontsize='16', loc='upper left')\n",
    "plt.tight_layout()\n",
    "plt.show()"
   ]
  },
  {
   "cell_type": "markdown",
   "metadata": {},
   "source": [
    "# Sentiment by Topic"
   ]
  },
  {
   "cell_type": "code",
   "execution_count": 97,
   "metadata": {},
   "outputs": [
    {
     "data": {
      "text/html": [
       "<div>\n",
       "<style scoped>\n",
       "    .dataframe tbody tr th:only-of-type {\n",
       "        vertical-align: middle;\n",
       "    }\n",
       "\n",
       "    .dataframe tbody tr th {\n",
       "        vertical-align: top;\n",
       "    }\n",
       "\n",
       "    .dataframe thead th {\n",
       "        text-align: right;\n",
       "    }\n",
       "</style>\n",
       "<table border=\"1\" class=\"dataframe\">\n",
       "  <thead>\n",
       "    <tr style=\"text-align: right;\">\n",
       "      <th>sentiment</th>\n",
       "      <th>negative</th>\n",
       "      <th>neutral</th>\n",
       "      <th>positive</th>\n",
       "    </tr>\n",
       "    <tr>\n",
       "      <th>deberta_topics</th>\n",
       "      <th></th>\n",
       "      <th></th>\n",
       "      <th></th>\n",
       "    </tr>\n",
       "  </thead>\n",
       "  <tbody>\n",
       "    <tr>\n",
       "      <th>Compatibility with devices</th>\n",
       "      <td>209</td>\n",
       "      <td>261</td>\n",
       "      <td>551</td>\n",
       "    </tr>\n",
       "    <tr>\n",
       "      <th>Delivery Service</th>\n",
       "      <td>6</td>\n",
       "      <td>16</td>\n",
       "      <td>85</td>\n",
       "    </tr>\n",
       "    <tr>\n",
       "      <th>Price</th>\n",
       "      <td>12</td>\n",
       "      <td>25</td>\n",
       "      <td>262</td>\n",
       "    </tr>\n",
       "    <tr>\n",
       "      <th>Product functionality</th>\n",
       "      <td>82</td>\n",
       "      <td>380</td>\n",
       "      <td>2584</td>\n",
       "    </tr>\n",
       "    <tr>\n",
       "      <th>Quality</th>\n",
       "      <td>189</td>\n",
       "      <td>69</td>\n",
       "      <td>183</td>\n",
       "    </tr>\n",
       "  </tbody>\n",
       "</table>\n",
       "</div>"
      ],
      "text/plain": [
       "sentiment                   negative  neutral  positive\n",
       "deberta_topics                                         \n",
       "Compatibility with devices       209      261       551\n",
       "Delivery Service                   6       16        85\n",
       "Price                             12       25       262\n",
       "Product functionality             82      380      2584\n",
       "Quality                          189       69       183"
      ]
     },
     "execution_count": 97,
     "metadata": {},
     "output_type": "execute_result"
    }
   ],
   "source": [
    "topic_sentiment_count = df.groupby(['deberta_topics', 'sentiment']).size().unstack(fill_value=0)\n",
    "topic_sentiment_count"
   ]
  },
  {
   "cell_type": "code",
   "execution_count": 98,
   "metadata": {},
   "outputs": [
    {
     "data": {
      "text/html": [
       "<div>\n",
       "<style scoped>\n",
       "    .dataframe tbody tr th:only-of-type {\n",
       "        vertical-align: middle;\n",
       "    }\n",
       "\n",
       "    .dataframe tbody tr th {\n",
       "        vertical-align: top;\n",
       "    }\n",
       "\n",
       "    .dataframe thead th {\n",
       "        text-align: right;\n",
       "    }\n",
       "</style>\n",
       "<table border=\"1\" class=\"dataframe\">\n",
       "  <thead>\n",
       "    <tr style=\"text-align: right;\">\n",
       "      <th>sentiment</th>\n",
       "      <th>negative</th>\n",
       "      <th>neutral</th>\n",
       "      <th>positive</th>\n",
       "    </tr>\n",
       "    <tr>\n",
       "      <th>deberta_topics</th>\n",
       "      <th></th>\n",
       "      <th></th>\n",
       "      <th></th>\n",
       "    </tr>\n",
       "  </thead>\n",
       "  <tbody>\n",
       "    <tr>\n",
       "      <th>Compatibility with devices</th>\n",
       "      <td>20.470127</td>\n",
       "      <td>25.563173</td>\n",
       "      <td>53.966699</td>\n",
       "    </tr>\n",
       "    <tr>\n",
       "      <th>Delivery Service</th>\n",
       "      <td>5.607477</td>\n",
       "      <td>14.953271</td>\n",
       "      <td>79.439252</td>\n",
       "    </tr>\n",
       "    <tr>\n",
       "      <th>Price</th>\n",
       "      <td>4.013378</td>\n",
       "      <td>8.361204</td>\n",
       "      <td>87.625418</td>\n",
       "    </tr>\n",
       "    <tr>\n",
       "      <th>Product functionality</th>\n",
       "      <td>2.692055</td>\n",
       "      <td>12.475378</td>\n",
       "      <td>84.832567</td>\n",
       "    </tr>\n",
       "    <tr>\n",
       "      <th>Quality</th>\n",
       "      <td>42.857143</td>\n",
       "      <td>15.646259</td>\n",
       "      <td>41.496599</td>\n",
       "    </tr>\n",
       "  </tbody>\n",
       "</table>\n",
       "</div>"
      ],
      "text/plain": [
       "sentiment                    negative    neutral   positive\n",
       "deberta_topics                                             \n",
       "Compatibility with devices  20.470127  25.563173  53.966699\n",
       "Delivery Service             5.607477  14.953271  79.439252\n",
       "Price                        4.013378   8.361204  87.625418\n",
       "Product functionality        2.692055  12.475378  84.832567\n",
       "Quality                     42.857143  15.646259  41.496599"
      ]
     },
     "execution_count": 98,
     "metadata": {},
     "output_type": "execute_result"
    }
   ],
   "source": [
    "topic_percentages = topic_sentiment_count.div(topic_sentiment_count.sum(axis=1), axis=0) * 100\n",
    "topic_percentages"
   ]
  },
  {
   "cell_type": "code",
   "execution_count": 99,
   "metadata": {},
   "outputs": [
    {
     "data": {
      "image/png": "[encoded data removed]",
      "text/plain": [
       "<Figure size 1400x800 with 1 Axes>"
      ]
     },
     "metadata": {},
     "output_type": "display_data"
    }
   ],
   "source": [
    "colors = {\"negative\": \"#FF6347\", \"neutral\": \"orange\", \"positive\": \"#6BCD53\"}\n",
    "\n",
    "fig, ax = plt.subplots(figsize=(14, 8))\n",
    "# Create a cumulative array to stack the bars\n",
    "cumulative_size = np.zeros(len(topic_percentages))\n",
    "\n",
    "for sentiment in [\"negative\", \"neutral\", \"positive\"]:  # Ensuring order\n",
    "    ax.barh(topic_percentages.index, topic_percentages[sentiment], left=cumulative_size, color=colors[sentiment], label=sentiment, edgecolor='black')\n",
    "    cumulative_size += topic_percentages[sentiment].values  # Update the cumulative size\n",
    "\n",
    "    # Adding data labels inside the bars for clarity\n",
    "    for i, (value, name) in enumerate(zip(topic_percentages[sentiment], topic_percentages.index)):\n",
    "        if value > 5:  # Only add text inside the bars if there is enough space\n",
    "            ax.text(cumulative_size[i] - (value / 2), i, f\"{value:.1f}%\", va='center', ha='center', fontweight='medium', color='white', fontsize=15)\n",
    "\n",
    "ax.set_xlabel('Percentage', fontsize=16, fontweight='bold')\n",
    "ax.set_title('Sentiment Distribution by Topic', fontsize=20, fontweight='bold')\n",
    "plt.xticks(fontsize=13)\n",
    "plt.yticks(topic_percentages.index, fontsize=13)\n",
    "plt.legend(title='Sentiment', fontsize=13, title_fontsize=14, loc='center left', bbox_to_anchor=(1, 0.85))\n",
    "plt.grid(True, which='major', linestyle='--', linewidth=0.5, axis='x')\n",
    "plt.tight_layout()\n",
    "plt.show()"
   ]
  }
 ],
 "metadata": {
  "kernelspec": {
   "display_name": "Python 3",
   "language": "python",
   "name": "python3"
  },
  "language_info": {
   "codemirror_mode": {
    "name": "ipython",
    "version": 3
   },
   "file_extension": ".py",
   "mimetype": "text/x-python",
   "name": "python",
   "nbconvert_exporter": "python",
   "pygments_lexer": "ipython3",
   "version": "3.12.1"
  }
 },
 "nbformat": 4,
 "nbformat_minor": 2
}
